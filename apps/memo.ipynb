{
 "cells": [
  {
   "cell_type": "markdown",
   "metadata": {},
   "source": [
    "## drf-access-policy\n",
    "\n",
    "drf-access-policy を使ってアクセス制御をする.\n",
    "\n",
    "https://github.com/rsinger86/drf-access-policy"
   ]
  },
  {
   "cell_type": "markdown",
   "metadata": {},
   "source": [
    "## 削除機能の制限を確認\n",
    "\n",
    "記事の author のユーザーのみ, 記事を削除できることを確認する."
   ]
  },
  {
   "cell_type": "code",
   "execution_count": 4,
   "metadata": {},
   "outputs": [],
   "source": [
    "from rest_framework.test import APIClient\n",
    "client = APIClient()"
   ]
  },
  {
   "cell_type": "code",
   "execution_count": 5,
   "metadata": {},
   "outputs": [],
   "source": [
    "## editor グループを作成\n",
    "editor_group,_ = Group.objects.get_or_create(name='editor')"
   ]
  },
  {
   "cell_type": "code",
   "execution_count": 6,
   "metadata": {},
   "outputs": [],
   "source": [
    "author = User.objects.get(pk=1)\n",
    "another = User.objects.get(pk=2)\n",
    "reader = User.objects.get(pk=3)\n",
    "\n",
    "# ユーザー を editor group に登録\n",
    "editor_group.user_set.add(author)\n",
    "editor_group.user_set.add(another)"
   ]
  },
  {
   "cell_type": "code",
   "execution_count": 7,
   "metadata": {},
   "outputs": [],
   "source": [
    "## status でフィルタリングされていることを確認"
   ]
  },
  {
   "cell_type": "code",
   "execution_count": 8,
   "metadata": {},
   "outputs": [
    {
     "data": {
      "text/plain": [
       "<Article: 54 - published article>"
      ]
     },
     "execution_count": 8,
     "metadata": {},
     "output_type": "execute_result"
    }
   ],
   "source": [
    "Article.objects.create(author=author, title='unpublish article', body='spam', status='unpublish')\n",
    "Article.objects.create(author=author, title='published article', body='ham', status='publish')"
   ]
  },
  {
   "cell_type": "code",
   "execution_count": 13,
   "metadata": {},
   "outputs": [
    {
     "data": {
      "text/plain": [
       "{'count': 1,\n",
       " 'next': None,\n",
       " 'previous': None,\n",
       " 'results': [{'id': 54,\n",
       "   'category': None,\n",
       "   'title': 'published article',\n",
       "   'body': 'ham',\n",
       "   'status': 'publish',\n",
       "   'author': 1,\n",
       "   'tags': []}]}"
      ]
     },
     "execution_count": 13,
     "metadata": {},
     "output_type": "execute_result"
    }
   ],
   "source": [
    "client.force_authenticate(reader)\n",
    "url = reverse('article-list')\n",
    "client.get(url).json()"
   ]
  },
  {
   "cell_type": "code",
   "execution_count": 18,
   "metadata": {},
   "outputs": [
    {
     "data": {
      "text/plain": [
       "{'count': 2,\n",
       " 'next': None,\n",
       " 'previous': None,\n",
       " 'results': [{'id': 53,\n",
       "   'category': None,\n",
       "   'title': 'unpublish article',\n",
       "   'body': 'spam',\n",
       "   'status': 'unpublish',\n",
       "   'author': 1,\n",
       "   'tags': []},\n",
       "  {'id': 54,\n",
       "   'category': None,\n",
       "   'title': 'published article',\n",
       "   'body': 'ham',\n",
       "   'status': 'publish',\n",
       "   'author': 1,\n",
       "   'tags': []}]}"
      ]
     },
     "execution_count": 18,
     "metadata": {},
     "output_type": "execute_result"
    }
   ],
   "source": [
    "client.force_authenticate(author)\n",
    "client.get(url).json()"
   ]
  },
  {
   "cell_type": "markdown",
   "metadata": {},
   "source": [
    "テスト用の記事を登録"
   ]
  },
  {
   "cell_type": "code",
   "execution_count": 19,
   "metadata": {},
   "outputs": [],
   "source": [
    "article = Article(author=author, title='author-test', body='article body')\n",
    "article.save()"
   ]
  },
  {
   "cell_type": "markdown",
   "metadata": {},
   "source": [
    "### 他のeditorが削除できないことを確認する"
   ]
  },
  {
   "cell_type": "code",
   "execution_count": 20,
   "metadata": {},
   "outputs": [],
   "source": [
    "url = reverse('article-detail', kwargs={'pk': article.id})\n",
    "client.force_authenticate(another)"
   ]
  },
  {
   "cell_type": "code",
   "execution_count": 21,
   "metadata": {},
   "outputs": [
    {
     "name": "stderr",
     "output_type": "stream",
     "text": [
      "Forbidden: /articles/48/\n"
     ]
    },
    {
     "data": {
      "text/plain": [
       "403"
      ]
     },
     "execution_count": 21,
     "metadata": {},
     "output_type": "execute_result"
    }
   ],
   "source": [
    "res = client.delete(url)\n",
    "res.status_code"
   ]
  },
  {
   "cell_type": "markdown",
   "metadata": {},
   "source": [
    "### author が削除できることを確認"
   ]
  },
  {
   "cell_type": "code",
   "execution_count": 22,
   "metadata": {},
   "outputs": [],
   "source": [
    "client.force_authenticate(author)"
   ]
  },
  {
   "cell_type": "code",
   "execution_count": 23,
   "metadata": {},
   "outputs": [
    {
     "data": {
      "text/plain": [
       "204"
      ]
     },
     "execution_count": 23,
     "metadata": {},
     "output_type": "execute_result"
    }
   ],
   "source": [
    "res = client.delete(url)\n",
    "res.status_code"
   ]
  },
  {
   "cell_type": "code",
   "execution_count": null,
   "metadata": {},
   "outputs": [],
   "source": []
  }
 ],
 "metadata": {
  "kernelspec": {
   "display_name": "Django Shell-Plus",
   "language": "python",
   "name": "django_extensions"
  },
  "language_info": {
   "codemirror_mode": {
    "name": "ipython",
    "version": 3
   },
   "file_extension": ".py",
   "mimetype": "text/x-python",
   "name": "python",
   "nbconvert_exporter": "python",
   "pygments_lexer": "ipython3",
   "version": "3.7.4"
  }
 },
 "nbformat": 4,
 "nbformat_minor": 2
}
