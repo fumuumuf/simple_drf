{
 "cells": [
  {
   "cell_type": "code",
   "execution_count": 133,
   "metadata": {},
   "outputs": [],
   "source": [
    "from accounts.models import User\n",
    "from articles.models import Article, Category, FFM, Tag\n",
    "from django.contrib.admin.models import LogEntry\n",
    "from django.contrib.auth.models import Group, Permission\n",
    "from django.contrib.contenttypes.models import ContentType\n",
    "from django.contrib.sessions.models import Session\n",
    "from silk.models import Profile, Request, Response, SQLQuery\n",
    "from django.db.models.expressions import RawSQL\n",
    "# Shell Plus Django Imports\n",
    "from django.core.cache import cache\n",
    "from django.conf import settings\n",
    "from django.contrib.auth import get_user_model\n",
    "from django.db import transaction\n",
    "from django.db.models import Avg, Case, Count, F, Max, Min, Prefetch, Q, Sum, When, Exists, OuterRef, Subquery\n",
    "from django.utils import timezone\n",
    "from django.urls import reverse\n",
    "from django.db import models\n"
   ]
  },
  {
   "cell_type": "code",
   "execution_count": 13,
   "metadata": {},
   "outputs": [],
   "source": [
    "from django.db.models.functions import Coalesce\n",
    "from django.db.models import Sum, Value"
   ]
  },
  {
   "cell_type": "markdown",
   "metadata": {},
   "source": [
    "# 検索"
   ]
  },
  {
   "cell_type": "code",
   "execution_count": 64,
   "metadata": {},
   "outputs": [
    {
     "name": "stderr",
     "output_type": "stream",
     "text": [
      "DEBUG (0.001) SELECT \"articles_ffm\".\"id\", \"articles_ffm\".\"depth\", \"articles_ffm\".\"queue\", \"articles_ffm\".\"name\" FROM \"articles_ffm\" WHERE \"articles_ffm\".\"name\" = 'G'; args=('G',)\n",
      "DEBUG (0.001) SELECT \"articles_ffm\".\"id\", \"articles_ffm\".\"depth\", \"articles_ffm\".\"queue\", \"articles_ffm\".\"name\" FROM \"articles_ffm\" WHERE \"articles_ffm\".\"name\" = 'G'; args=('G',)\n"
     ]
    },
    {
     "data": {
      "text/plain": [
       "<FFM: (2, 10): G>"
      ]
     },
     "execution_count": 64,
     "metadata": {},
     "output_type": "execute_result"
    }
   ],
   "source": [
    "target = FFM.objects.get(name='G')\n",
    "target"
   ]
  },
  {
   "cell_type": "markdown",
   "metadata": {},
   "source": [
    "### 先祖ノードの検索"
   ]
  },
  {
   "cell_type": "code",
   "execution_count": 69,
   "metadata": {},
   "outputs": [],
   "source": [
    "sub1 = FFM.objects.filter(queue__lt=target.queue,depth__lt=target.depth).values('depth').annotate(max_queue=Max('queue'))"
   ]
  },
  {
   "cell_type": "code",
   "execution_count": 75,
   "metadata": {},
   "outputs": [
    {
     "name": "stderr",
     "output_type": "stream",
     "text": [
      "DEBUG (0.001) SELECT \"articles_ffm\".\"id\", \"articles_ffm\".\"depth\", \"articles_ffm\".\"queue\", \"articles_ffm\".\"name\" FROM \"articles_ffm\" WHERE \"articles_ffm\".\"name\" = 'G'; args=('G',)\n",
      "DEBUG (0.001) SELECT \"articles_ffm\".\"id\", \"articles_ffm\".\"depth\", \"articles_ffm\".\"queue\", \"articles_ffm\".\"name\" FROM \"articles_ffm\" WHERE \"articles_ffm\".\"name\" = 'G'; args=('G',)\n"
     ]
    }
   ],
   "source": [
    "target = FFM.objects.get(name='G')"
   ]
  },
  {
   "cell_type": "code",
   "execution_count": 76,
   "metadata": {},
   "outputs": [
    {
     "name": "stderr",
     "output_type": "stream",
     "text": [
      "DEBUG (0.000) SELECT \"articles_ffm\".\"id\", \"articles_ffm\".\"depth\", \"articles_ffm\".\"queue\", \"articles_ffm\".\"name\" FROM \"articles_ffm\" WHERE \"articles_ffm\".\"queue\" IN (SELECT MAX(U0.\"queue\") AS \"max_queue\" FROM \"articles_ffm\" U0 WHERE (U0.\"depth\" < 2 AND U0.\"queue\" < 10) GROUP BY U0.\"depth\")  LIMIT 21; args=(2, 10)\n",
      "DEBUG (0.000) SELECT \"articles_ffm\".\"id\", \"articles_ffm\".\"depth\", \"articles_ffm\".\"queue\", \"articles_ffm\".\"name\" FROM \"articles_ffm\" WHERE \"articles_ffm\".\"queue\" IN (SELECT MAX(U0.\"queue\") AS \"max_queue\" FROM \"articles_ffm\" U0 WHERE (U0.\"depth\" < 2 AND U0.\"queue\" < 10) GROUP BY U0.\"depth\")  LIMIT 21; args=(2, 10)\n"
     ]
    },
    {
     "data": {
      "text/plain": [
       "<FFMQuerySet [<FFM: (0, 0): 0>, <FFM: (1, 2): 0>]>"
      ]
     },
     "execution_count": 76,
     "metadata": {},
     "output_type": "execute_result"
    }
   ],
   "source": [
    "FFM.objects.filter(queue__in=Subquery(sub1.values('max_queue')))"
   ]
  },
  {
   "cell_type": "markdown",
   "metadata": {},
   "source": [
    "###  親ノード検索"
   ]
  },
  {
   "cell_type": "code",
   "execution_count": 62,
   "metadata": {},
   "outputs": [],
   "source": [
    "sub1 = FFM.objects.filter(queue__lt=target.queue,depth=target.depth-1).values('depth').annotate(max_queue=Max('queue'))"
   ]
  },
  {
   "cell_type": "code",
   "execution_count": 63,
   "metadata": {},
   "outputs": [
    {
     "name": "stderr",
     "output_type": "stream",
     "text": [
      "DEBUG (0.001) SELECT \"articles_ffm\".\"id\", \"articles_ffm\".\"depth\", \"articles_ffm\".\"queue\", \"articles_ffm\".\"name\" FROM \"articles_ffm\" WHERE \"articles_ffm\".\"queue\" IN (SELECT MAX(U0.\"queue\") AS \"max_queue\" FROM \"articles_ffm\" U0 WHERE (U0.\"depth\" = 0 AND U0.\"queue\" < 2) GROUP BY U0.\"depth\")  LIMIT 21; args=(0, 2)\n",
      "DEBUG (0.001) SELECT \"articles_ffm\".\"id\", \"articles_ffm\".\"depth\", \"articles_ffm\".\"queue\", \"articles_ffm\".\"name\" FROM \"articles_ffm\" WHERE \"articles_ffm\".\"queue\" IN (SELECT MAX(U0.\"queue\") AS \"max_queue\" FROM \"articles_ffm\" U0 WHERE (U0.\"depth\" = 0 AND U0.\"queue\" < 2) GROUP BY U0.\"depth\")  LIMIT 21; args=(0, 2)\n"
     ]
    },
    {
     "data": {
      "text/plain": [
       "<FFMQuerySet [<FFM: (0, 0): A>]>"
      ]
     },
     "execution_count": 63,
     "metadata": {},
     "output_type": "execute_result"
    }
   ],
   "source": [
    "FFM.objects.filter(queue__in=Subquery(sub1.values('max_queue')))"
   ]
  },
  {
   "cell_type": "markdown",
   "metadata": {},
   "source": [
    "### 先祖ノード検索の一般化\n",
    "\n",
    "n 代前まで取得するような query"
   ]
  },
  {
   "cell_type": "code",
   "execution_count": 51,
   "metadata": {},
   "outputs": [
    {
     "name": "stderr",
     "output_type": "stream",
     "text": [
      "DEBUG (0.000) SELECT \"articles_ffm\".\"id\", \"articles_ffm\".\"depth\", \"articles_ffm\".\"queue\", \"articles_ffm\".\"name\" FROM \"articles_ffm\" WHERE \"articles_ffm\".\"queue\" IN (SELECT MAX(U0.\"queue\") AS \"max_queue\" FROM \"articles_ffm\" U0 WHERE (U0.\"depth\" >= 0 AND U0.\"depth\" < 2 AND U0.\"queue\" < 9) GROUP BY U0.\"depth\")  LIMIT 21; args=(0, 2, 9)\n",
      "DEBUG (0.000) SELECT \"articles_ffm\".\"id\", \"articles_ffm\".\"depth\", \"articles_ffm\".\"queue\", \"articles_ffm\".\"name\" FROM \"articles_ffm\" WHERE \"articles_ffm\".\"queue\" IN (SELECT MAX(U0.\"queue\") AS \"max_queue\" FROM \"articles_ffm\" U0 WHERE (U0.\"depth\" >= 0 AND U0.\"depth\" < 2 AND U0.\"queue\" < 9) GROUP BY U0.\"depth\")  LIMIT 21; args=(0, 2, 9)\n"
     ]
    },
    {
     "data": {
      "text/plain": [
       "<FFMQuerySet [<FFM: (0, 0): A>, <FFM: (1, 2): C>]>"
      ]
     },
     "execution_count": 51,
     "metadata": {},
     "output_type": "execute_result"
    }
   ],
   "source": [
    "n=2\n",
    "sub1 = FFM.objects.filter(queue__lt=target.queue,depth__lt=target.depth, depth__gte=target.depth-n).values('depth')\\\n",
    "    .annotate(max_queue=Max('queue'))\n",
    "FFM.objects.filter(queue__in=Subquery(sub1.values('max_queue')))"
   ]
  },
  {
   "cell_type": "markdown",
   "metadata": {},
   "source": [
    "## 子孫ノードの検索"
   ]
  },
  {
   "cell_type": "code",
   "execution_count": 52,
   "metadata": {},
   "outputs": [
    {
     "name": "stderr",
     "output_type": "stream",
     "text": [
      "DEBUG (0.000) SELECT \"articles_ffm\".\"id\", \"articles_ffm\".\"depth\", \"articles_ffm\".\"queue\", \"articles_ffm\".\"name\" FROM \"articles_ffm\" WHERE \"articles_ffm\".\"name\" = 'B'; args=('B',)\n",
      "DEBUG (0.000) SELECT \"articles_ffm\".\"id\", \"articles_ffm\".\"depth\", \"articles_ffm\".\"queue\", \"articles_ffm\".\"name\" FROM \"articles_ffm\" WHERE \"articles_ffm\".\"name\" = 'B'; args=('B',)\n"
     ]
    },
    {
     "data": {
      "text/plain": [
       "<FFM: (1, 1): B>"
      ]
     },
     "execution_count": 52,
     "metadata": {},
     "output_type": "execute_result"
    }
   ],
   "source": [
    "target = FFM.objects.get(name='B')\n",
    "target"
   ]
  },
  {
   "cell_type": "code",
   "execution_count": 53,
   "metadata": {},
   "outputs": [
    {
     "name": "stderr",
     "output_type": "stream",
     "text": [
      "DEBUG (0.000) SELECT ('0') AS \"x\", MIN(\"articles_ffm\".\"queue\") AS \"min_queue\" FROM \"articles_ffm\" WHERE (\"articles_ffm\".\"depth\" <= 1 AND \"articles_ffm\".\"queue\" > 1) GROUP BY ('0')  LIMIT 21; args=(1, 1)\n",
      "DEBUG (0.000) SELECT ('0') AS \"x\", MIN(\"articles_ffm\".\"queue\") AS \"min_queue\" FROM \"articles_ffm\" WHERE (\"articles_ffm\".\"depth\" <= 1 AND \"articles_ffm\".\"queue\" > 1) GROUP BY ('0')  LIMIT 21; args=(1, 1)\n"
     ]
    },
    {
     "data": {
      "text/plain": [
       "<FFMQuerySet [{'x': '0', 'min_queue': 2}]>"
      ]
     },
     "execution_count": 53,
     "metadata": {},
     "output_type": "execute_result"
    }
   ],
   "source": [
    "# x はダミー列\n",
    "sub1 = FFM.objects.annotate(x=RawSQL(\"'0'\",[])).values('x').\\\n",
    "    filter(queue__gt=target.queue, depth__lte=target.depth).\\\n",
    "    annotate(min_queue=Min('queue'))\n",
    "sub1"
   ]
  },
  {
   "cell_type": "code",
   "execution_count": 54,
   "metadata": {},
   "outputs": [
    {
     "name": "stderr",
     "output_type": "stream",
     "text": [
      "DEBUG (0.000) SELECT \"articles_ffm\".\"id\", \"articles_ffm\".\"depth\", \"articles_ffm\".\"queue\", \"articles_ffm\".\"name\" FROM \"articles_ffm\" WHERE (\"articles_ffm\".\"depth\" > 1 AND \"articles_ffm\".\"queue\" > 1 AND \"articles_ffm\".\"queue\" < (SELECT MIN(U0.\"queue\") AS \"min_queue\" FROM \"articles_ffm\" U0 WHERE (U0.\"depth\" <= 1 AND U0.\"queue\" > 1) GROUP BY ('0')  LIMIT 1))  LIMIT 21; args=(1, 1, 1, 1)\n",
      "DEBUG (0.000) SELECT \"articles_ffm\".\"id\", \"articles_ffm\".\"depth\", \"articles_ffm\".\"queue\", \"articles_ffm\".\"name\" FROM \"articles_ffm\" WHERE (\"articles_ffm\".\"depth\" > 1 AND \"articles_ffm\".\"queue\" > 1 AND \"articles_ffm\".\"queue\" < (SELECT MIN(U0.\"queue\") AS \"min_queue\" FROM \"articles_ffm\" U0 WHERE (U0.\"depth\" <= 1 AND U0.\"queue\" > 1) GROUP BY ('0')  LIMIT 1))  LIMIT 21; args=(1, 1, 1, 1)\n"
     ]
    },
    {
     "data": {
      "text/plain": [
       "<FFMQuerySet []>"
      ]
     },
     "execution_count": 54,
     "metadata": {},
     "output_type": "execute_result"
    }
   ],
   "source": [
    "FFM.objects.filter(depth__gt=target.depth,\n",
    "                               queue__gt=target.queue, \n",
    "                               queue__lt=Subquery(sub1.values('min_queue')[:1]))"
   ]
  },
  {
   "cell_type": "markdown",
   "metadata": {},
   "source": [
    "### n代先までの子孫ノードの検索一般化"
   ]
  },
  {
   "cell_type": "code",
   "execution_count": 55,
   "metadata": {},
   "outputs": [],
   "source": [
    "INT_MAX = 0x7fffffff"
   ]
  },
  {
   "cell_type": "code",
   "execution_count": 56,
   "metadata": {},
   "outputs": [
    {
     "name": "stderr",
     "output_type": "stream",
     "text": [
      "DEBUG (0.000) SELECT \"articles_ffm\".\"id\", \"articles_ffm\".\"depth\", \"articles_ffm\".\"queue\", \"articles_ffm\".\"name\" FROM \"articles_ffm\" WHERE \"articles_ffm\".\"name\" = 'C'; args=('C',)\n",
      "DEBUG (0.000) SELECT \"articles_ffm\".\"id\", \"articles_ffm\".\"depth\", \"articles_ffm\".\"queue\", \"articles_ffm\".\"name\" FROM \"articles_ffm\" WHERE \"articles_ffm\".\"name\" = 'C'; args=('C',)\n"
     ]
    }
   ],
   "source": [
    "n = 1\n",
    "target = FFM.objects.get(name='C')"
   ]
  },
  {
   "cell_type": "code",
   "execution_count": 57,
   "metadata": {},
   "outputs": [
    {
     "name": "stderr",
     "output_type": "stream",
     "text": [
      "DEBUG (0.001) SELECT \"articles_ffm\".\"id\", \"articles_ffm\".\"depth\", \"articles_ffm\".\"queue\", \"articles_ffm\".\"name\" FROM \"articles_ffm\" WHERE (\"articles_ffm\".\"depth\" > 1 AND \"articles_ffm\".\"depth\" <= 2 AND \"articles_ffm\".\"queue\" > 2 AND \"articles_ffm\".\"queue\" < (COALESCE((SELECT MIN(U0.\"queue\") AS \"min_queue\" FROM \"articles_ffm\" U0 WHERE (U0.\"depth\" <= 1 AND U0.\"queue\" > 2) GROUP BY ('0')  LIMIT 1), 2147483647)))  LIMIT 21; args=(1, 2, 2, 1, 2, 2147483647)\n",
      "DEBUG (0.001) SELECT \"articles_ffm\".\"id\", \"articles_ffm\".\"depth\", \"articles_ffm\".\"queue\", \"articles_ffm\".\"name\" FROM \"articles_ffm\" WHERE (\"articles_ffm\".\"depth\" > 1 AND \"articles_ffm\".\"depth\" <= 2 AND \"articles_ffm\".\"queue\" > 2 AND \"articles_ffm\".\"queue\" < (COALESCE((SELECT MIN(U0.\"queue\") AS \"min_queue\" FROM \"articles_ffm\" U0 WHERE (U0.\"depth\" <= 1 AND U0.\"queue\" > 2) GROUP BY ('0')  LIMIT 1), 2147483647)))  LIMIT 21; args=(1, 2, 2, 1, 2, 2147483647)\n"
     ]
    },
    {
     "data": {
      "text/plain": [
       "<FFMQuerySet [<FFM: (2, 3): D>, <FFM: (2, 4): E>, <FFM: (2, 8): F>, <FFM: (2, 9): G>]>"
      ]
     },
     "execution_count": 57,
     "metadata": {},
     "output_type": "execute_result"
    }
   ],
   "source": [
    "# x はダミー列\n",
    "sub1 = FFM.objects.annotate(x=RawSQL(\"'0'\",[])).values('x').\\\n",
    "    filter(queue__gt=target.queue, depth__lte=target.depth).\\\n",
    "    annotate(min_queue=Min('queue'))\n",
    "\n",
    "FFM.objects.filter(depth__gt=target.depth,\n",
    "                               depth__lte=target.depth+n,\n",
    "                               queue__gt=target.queue, \n",
    "                               queue__lt=Coalesce(Subquery(sub1.values('min_queue')[:1]),Value(INT_MAX)))\n"
   ]
  },
  {
   "cell_type": "markdown",
   "metadata": {},
   "source": [
    "## 考察\n",
    "\n",
    "先祖や子孫ノードの検索が容易. これで更新が 1クエリ? 2クエリ で行えるのは強い."
   ]
  },
  {
   "cell_type": "markdown",
   "metadata": {},
   "source": [
    "# ノードの追加"
   ]
  },
  {
   "cell_type": "markdown",
   "metadata": {},
   "source": [
    "あるノード(A)の子供を追加するとき,  Aより大きい `queue` のノードに `queue+1` の操作を行う.  \n",
    "これにより `A.queue+1` の queue があくので, そこに新しいノードを登録する."
   ]
  },
  {
   "cell_type": "code",
   "execution_count": 59,
   "metadata": {},
   "outputs": [],
   "source": [
    "from django.db.models import Exists,Count"
   ]
  },
  {
   "cell_type": "code",
   "execution_count": 60,
   "metadata": {},
   "outputs": [
    {
     "name": "stderr",
     "output_type": "stream",
     "text": [
      "DEBUG (0.001) SELECT \"articles_ffm\".\"id\", \"articles_ffm\".\"depth\", \"articles_ffm\".\"queue\", \"articles_ffm\".\"name\" FROM \"articles_ffm\" WHERE \"articles_ffm\".\"name\" = 'E'; args=('E',)\n",
      "DEBUG (0.001) SELECT \"articles_ffm\".\"id\", \"articles_ffm\".\"depth\", \"articles_ffm\".\"queue\", \"articles_ffm\".\"name\" FROM \"articles_ffm\" WHERE \"articles_ffm\".\"name\" = 'E'; args=('E',)\n"
     ]
    }
   ],
   "source": [
    "parent = FFM.objects.get(name='E')"
   ]
  },
  {
   "cell_type": "code",
   "execution_count": 61,
   "metadata": {},
   "outputs": [
    {
     "name": "stderr",
     "output_type": "stream",
     "text": [
      "DEBUG (0.000) BEGIN; args=None\n",
      "DEBUG (0.000) BEGIN; args=None\n",
      "DEBUG (0.001) UPDATE \"articles_ffm\" SET \"queue\" = (\"articles_ffm\".\"queue\" + 1) WHERE \"articles_ffm\".\"queue\" > 4; args=(1, 4)\n",
      "DEBUG (0.001) UPDATE \"articles_ffm\" SET \"queue\" = (\"articles_ffm\".\"queue\" + 1) WHERE \"articles_ffm\".\"queue\" > 4; args=(1, 4)\n",
      "DEBUG (0.000) INSERT INTO \"articles_ffm\" (\"depth\", \"queue\", \"name\") VALUES (3, 5, 'E''s child'); args=[3, 5, \"E's child\"]\n",
      "DEBUG (0.000) INSERT INTO \"articles_ffm\" (\"depth\", \"queue\", \"name\") VALUES (3, 5, 'E''s child'); args=[3, 5, \"E's child\"]\n"
     ]
    }
   ],
   "source": [
    "with transaction.atomic():  # start transaction\n",
    "    FFM.objects.filter(queue__gt=parent.queue).update(queue=F('queue')+1)\n",
    "    params = {\n",
    "        'queue' : parent.queue+1,\n",
    "        'depth' : parent.depth+1,\n",
    "        'name' : f\"{parent.name}'s child\"\n",
    "    }\n",
    "    FFM.objects.create(**params)"
   ]
  },
  {
   "cell_type": "markdown",
   "metadata": {},
   "source": [
    "### 考察\n",
    "\n",
    "ノードの追加のたびに毎回 update が必要となる.\n",
    "これを回避するために 以下を考えた.\n",
    "\n",
    "1. 定数：interval を用意\n",
    "2. `select MAX(queue)-1 from FFM where queue > parent.queue` を取得. `mq` とする.\n",
    "3. `parent.queue = mq` のとき, 空きがないので, `parent.queue` より大きい queue をもつノードに `queue+= interval` を行う.\n",
    "4. 追加ノードの queue を次のように決める\n",
    "    + 3\\. で空きがあったとき:  `mq`\n",
    "    + 空きがなかったとき, または 2\\. が取得できなかったとき: `mq+interavl`\n",
    "5. 追加ノードの登録"
   ]
  },
  {
   "cell_type": "markdown",
   "metadata": {},
   "source": [
    "# ノードの削除\n",
    "\n",
    "ノードの削除は3パターンある.\n",
    "\n",
    "1. 指定ノードを部分木ごと削除する\n",
    "2. 指定ノードの子孫ノードだけ削除する\n",
    "3. 指定ノードを削除して、その子孫ノードを繰り上げる\n",
    "\n",
    "1, 2 は (指定ノードと)子孫ノードの検索を行いすべて削除するだけなので, 1クエリで可能.\n",
    "\n",
    "3 は \n",
    "\n",
    "+ \\(1) 指定ノードを削除\n",
    "+ \\(2) 子孫ノードの depth を -1\n",
    "\n",
    "という 2 つのクエリが必要.\n",
    "\n",
    "以下, 3 のみ試す."
   ]
  },
  {
   "cell_type": "code",
   "execution_count": 134,
   "metadata": {},
   "outputs": [
    {
     "name": "stderr",
     "output_type": "stream",
     "text": [
      "DEBUG (0.001) SELECT \"articles_ffm\".\"id\", \"articles_ffm\".\"depth\", \"articles_ffm\".\"queue\", \"articles_ffm\".\"name\" FROM \"articles_ffm\" WHERE \"articles_ffm\".\"name\" = 'G'; args=('G',)\n",
      "DEBUG (0.001) SELECT \"articles_ffm\".\"id\", \"articles_ffm\".\"depth\", \"articles_ffm\".\"queue\", \"articles_ffm\".\"name\" FROM \"articles_ffm\" WHERE \"articles_ffm\".\"name\" = 'G'; args=('G',)\n"
     ]
    }
   ],
   "source": [
    "target = FFM.objects.get(name='G')"
   ]
  },
  {
   "cell_type": "code",
   "execution_count": 135,
   "metadata": {},
   "outputs": [
    {
     "name": "stderr",
     "output_type": "stream",
     "text": [
      "DEBUG (0.000) BEGIN; args=None\n",
      "DEBUG (0.000) BEGIN; args=None\n",
      "DEBUG (0.003) DELETE FROM \"articles_ffm\" WHERE \"articles_ffm\".\"id\" IN (7); args=(7,)\n",
      "DEBUG (0.003) DELETE FROM \"articles_ffm\" WHERE \"articles_ffm\".\"id\" IN (7); args=(7,)\n",
      "DEBUG (0.000) UPDATE \"articles_ffm\" SET \"depth\" = (\"articles_ffm\".\"depth\" - 1) WHERE (\"articles_ffm\".\"depth\" > 2 AND \"articles_ffm\".\"queue\" > 6 AND \"articles_ffm\".\"queue\" < (COALESCE((SELECT MIN(U0.\"queue\") AS \"min_queue\" FROM \"articles_ffm\" U0 WHERE (U0.\"depth\" <= 2 AND U0.\"queue\" > 6) GROUP BY ('0')  LIMIT 1), 2147483647))); args=(1, 2, 6, 2, 6, 2147483647)\n",
      "DEBUG (0.000) UPDATE \"articles_ffm\" SET \"depth\" = (\"articles_ffm\".\"depth\" - 1) WHERE (\"articles_ffm\".\"depth\" > 2 AND \"articles_ffm\".\"queue\" > 6 AND \"articles_ffm\".\"queue\" < (COALESCE((SELECT MIN(U0.\"queue\") AS \"min_queue\" FROM \"articles_ffm\" U0 WHERE (U0.\"depth\" <= 2 AND U0.\"queue\" > 6) GROUP BY ('0')  LIMIT 1), 2147483647))); args=(1, 2, 6, 2, 6, 2147483647)\n"
     ]
    }
   ],
   "source": [
    "with transaction.atomic():  # start transaction\n",
    "    target.delete()\n",
    "    \n",
    "    sub1 = FFM.objects.annotate(x=RawSQL(\"'0'\",[])).values('x').\\\n",
    "        filter(queue__gt=target.queue, depth__lte=target.depth).\\\n",
    "        annotate(min_queue=Min('queue'))\n",
    "    update_targets = FFM.objects.filter(depth__gt=target.depth,\n",
    "                                   queue__gt=target.queue, \n",
    "                                   queue__lt=Coalesce(Subquery(sub1.values('min_queue')[:1]),Value(INT_MAX)) \n",
    "                                   )\n",
    "    update_targets.update(depth=F('depth')-Value(1))\n"
   ]
  },
  {
   "cell_type": "markdown",
   "metadata": {},
   "source": [
    "## おまけ\n",
    "\n",
    "ツリー表示"
   ]
  },
  {
   "cell_type": "code",
   "execution_count": 136,
   "metadata": {},
   "outputs": [
    {
     "name": "stderr",
     "output_type": "stream",
     "text": [
      "DEBUG (0.000) SELECT MIN(\"articles_ffm\".\"depth\") AS \"d_min\", MAX(\"articles_ffm\".\"depth\") AS \"d_max\", MIN(\"articles_ffm\".\"queue\") AS \"q_min\", MAX(\"articles_ffm\".\"queue\") AS \"q_max\" FROM \"articles_ffm\"; args=()\n",
      "DEBUG (0.000) SELECT MIN(\"articles_ffm\".\"depth\") AS \"d_min\", MAX(\"articles_ffm\".\"depth\") AS \"d_max\", MIN(\"articles_ffm\".\"queue\") AS \"q_min\", MAX(\"articles_ffm\".\"queue\") AS \"q_max\" FROM \"articles_ffm\"; args=()\n",
      "DEBUG (0.001) SELECT \"articles_ffm\".\"id\", \"articles_ffm\".\"depth\", \"articles_ffm\".\"queue\", \"articles_ffm\".\"name\" FROM \"articles_ffm\"; args=()\n",
      "DEBUG (0.001) SELECT \"articles_ffm\".\"id\", \"articles_ffm\".\"depth\", \"articles_ffm\".\"queue\", \"articles_ffm\".\"name\" FROM \"articles_ffm\"; args=()\n"
     ]
    }
   ],
   "source": [
    "nodes = FFM.objects.all()\n",
    "\n",
    "tbl_info = nodes.aggregate(d_min=Min('depth'), d_max=Max('depth'), q_min=Min('queue'), q_max=Max('queue'))\n",
    "\n",
    "row_size = tbl_info['d_max'] - tbl_info['d_min'] +1\n",
    "col_size = tbl_info['q_max'] - tbl_info['q_min'] +1\n",
    "\n",
    "tbl = [[''] * col_size for _ in range(row_size)]\n",
    "\n",
    "for node in nodes:\n",
    "    i = node.depth - tbl_info['d_min']\n",
    "    j = node.queue - tbl_info['q_min']\n",
    "    tbl[i][j] = node.name\n",
    "    if i > 0:\n",
    "        tbl[i-1][j] = '+'"
   ]
  },
  {
   "cell_type": "code",
   "execution_count": 137,
   "metadata": {},
   "outputs": [
    {
     "data": {
      "text/plain": [
       "[['A', '+', '-', '-', '+', '', '', '', '', '', ''],\n",
       " ['', 'B', '+', '+', 'C', '+', '-', '+', '-', '-', '+'],\n",
       " ['', '', 'D', 'E', '', 'F', '', 'H', '', '', 'I']]"
      ]
     },
     "execution_count": 137,
     "metadata": {},
     "output_type": "execute_result"
    }
   ],
   "source": [
    "for i in range(row_size):\n",
    "    flg = 0\n",
    "    for j in range(col_size-1,-1,-1):\n",
    "        if not tbl[i][j]:\n",
    "            if flg:\n",
    "                tbl[i][j] = '-'\n",
    "        elif tbl[i][j] == '+':\n",
    "            flg=True\n",
    "        else:\n",
    "            flg=False\n",
    "tbl"
   ]
  },
  {
   "cell_type": "code",
   "execution_count": 138,
   "metadata": {},
   "outputs": [
    {
     "name": "stdout",
     "output_type": "stream",
     "text": [
      "A + - - +            \n",
      "  B + + C + - + - - +\n",
      "    D E   F   H     I\n"
     ]
    }
   ],
   "source": [
    "for r in tbl:\n",
    "    for j in range(col_size):\n",
    "        if not r[j]:\n",
    "            r[j] = ' '\n",
    "    print(*r)"
   ]
  }
 ],
 "metadata": {
  "kernelspec": {
   "display_name": "Django Shell-Plus",
   "language": "python",
   "name": "django_extensions"
  },
  "language_info": {
   "codemirror_mode": {
    "name": "ipython",
    "version": 3
   },
   "file_extension": ".py",
   "mimetype": "text/x-python",
   "name": "python",
   "nbconvert_exporter": "python",
   "pygments_lexer": "ipython3",
   "version": "3.7.4"
  }
 },
 "nbformat": 4,
 "nbformat_minor": 2
}
