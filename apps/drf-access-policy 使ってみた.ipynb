{
 "cells": [
  {
   "cell_type": "markdown",
   "metadata": {},
   "source": [
    "## drf-access-policy\n",
    "\n",
    "Django Rest Framework のthird party パッケージの drf-access-policy を使ってアクセス制御をする.\n",
    "\n",
    "https://github.com/rsinger86/drf-access-policy\n",
    "\n",
    "AWS の IAM の syntax と同じようにアクセス権限を定義できるっぽい. (AWS はよく知らないのでわからない)"
   ]
  },
  {
   "cell_type": "markdown",
   "metadata": {},
   "source": [
    "###  環境\n",
    "\n",
    "+ Django==2.2.4\n",
    "+ djangorestframework==3.9.3\n",
    "\n",
    "[sample code](https://github.com/fumuumuf/simple_drf/tree/access-policy)"
   ]
  },
  {
   "cell_type": "markdown",
   "metadata": {},
   "source": [
    "## つかいかた\n",
    "\n",
    "基本的な使い方は\n",
    "\n",
    "1. `AccessPolicy` を継承したクラスを作成し,  statements を定義する\n",
    "2.  view の `permission_classes` で作成したクラスを指定する\n",
    "\n",
    "となる.([Example #1](https://github.com/rsinger86/drf-access-policy#example-1-policy-for-viewset))"
   ]
  },
  {
   "cell_type": "markdown",
   "metadata": {},
   "source": [
    "### AccessPolicy\n",
    "\n",
    "statements は\n",
    "\n",
    "+ デフォルトはすべてのアクセスを拒否\n",
    "+ 許可したいアクセスは `effect: allow` で許可する\n",
    "+ ひとつでも `effect: deny` の statement にマッチすれば, そのアクセスは拒否される\n",
    "\n",
    "という仕様. これに従い statement を定義する.\n",
    "\n",
    "\n",
    "``` python\n",
    "class ArticleAccessPolicy(AccessPolicy):\n",
    "    \"\"\"\n",
    "    記事に関するアクセスポリシー\n",
    "\n",
    "    Note:\n",
    "        デフォルトはすべてのアクセスを拒否\n",
    "    \"\"\"\n",
    "\n",
    "    statements = [\n",
    "        {\n",
    "            \"action\": [\"list\", \"retrieve\"],\n",
    "            \"principal\": \"*\",\n",
    "            \"effect\": \"allow\"\n",
    "        },\n",
    "        # editor グループに所属しているなら publish, unpublish アクションが可能\n",
    "        {\n",
    "            \"action\": [\"publish\", \"unpublish\"],\n",
    "            \"principal\": [\"group:editor\"],\n",
    "            \"effect\": \"allow\"\n",
    "        },\n",
    "        # is_author True なら delete(action:destroy) 可能\n",
    "        {\n",
    "            \"action\": [\"destroy\"],\n",
    "            \"principal\": [\"*\"],\n",
    "            \"effect\": \"allow\",\n",
    "            \"condition\": \"is_author\"\n",
    "        }\n",
    "    ]\n",
    "\n",
    "    def is_author(self, request, view, action) -> bool:\n",
    "        \"\"\"\n",
    "        request.user が author であるか？\n",
    "        \"\"\"\n",
    "        # scope_queryset を使用している場合, そのフィルタリングも適用されることに注意\n",
    "        article = view.get_object()\n",
    "        return request.user == article.author\n",
    "\n",
    "    @classmethod\n",
    "    def scope_queryset(cls, request, queryset):\n",
    "        if request.user.groups.filter(name='editor').exists():\n",
    "            return queryset\n",
    "\n",
    "        return queryset.filter(status='publish')\n",
    "```"
   ]
  },
  {
   "cell_type": "markdown",
   "metadata": {},
   "source": [
    "### View の設定\n",
    "\n",
    "view では `permission_classes` に作成した AccessPolicy を指定する.\n",
    "\n",
    "`get_queryset` メソッドでは, AccessPolicy で定義しているクラスメソッド `scope_queryset` を呼び, アクセス権限に応じたフィルタリングを適用している.\n",
    "AccessPolicy でルールとフィルタリングを一緒に定義することができるので分かりやすい. \n",
    "\n",
    "```python\n",
    "class ArticleViewSet(viewsets.ModelViewSet):\n",
    "    permission_classes = (ArticleAccessPolicy,)\n",
    "\n",
    "    @property\n",
    "    def access_policy(self):\n",
    "        return self.permission_classes[0]\n",
    "\n",
    "    serializer_class = ArticleSerializer\n",
    "    queryset = Article.objects.select_related('category').prefetch_related('tags')\n",
    "\n",
    "    def get_queryset(self):\n",
    "        return self.access_policy.scope_queryset(\n",
    "            self.request, Article.objects.all()\n",
    "        )\n",
    "```"
   ]
  },
  {
   "cell_type": "markdown",
   "metadata": {},
   "source": [
    "## 使ってみる\n",
    "\n",
    "実際にアクセスして検証する."
   ]
  },
  {
   "cell_type": "code",
   "execution_count": 1,
   "metadata": {},
   "outputs": [],
   "source": [
    "from rest_framework.test import APIClient\n",
    "client = APIClient()"
   ]
  },
  {
   "cell_type": "code",
   "execution_count": 2,
   "metadata": {},
   "outputs": [],
   "source": [
    "## editor グループを作成\n",
    "editor_group,_ = Group.objects.get_or_create(name='editor')"
   ]
  },
  {
   "cell_type": "code",
   "execution_count": 3,
   "metadata": {},
   "outputs": [],
   "source": [
    "author = User.objects.get(pk=1)\n",
    "another = User.objects.get(pk=2)\n",
    "reader = User.objects.get(pk=3)\n",
    "\n",
    "# ユーザー を editor group に登録\n",
    "editor_group.user_set.add(author)\n",
    "editor_group.user_set.add(another)"
   ]
  },
  {
   "cell_type": "markdown",
   "metadata": {},
   "source": [
    "## queryset のフィルタリング確認\n",
    "\n",
    "`editor` group に所属しないユーザーは `unpublish`のデータを参照できないことを確認."
   ]
  },
  {
   "cell_type": "code",
   "execution_count": 4,
   "metadata": {},
   "outputs": [
    {
     "data": {
      "text/plain": [
       "<Article: 40 - published article>"
      ]
     },
     "execution_count": 4,
     "metadata": {},
     "output_type": "execute_result"
    }
   ],
   "source": [
    "Article.objects.create(author=author, title='unpublish article', body='spam', status='unpublish')\n",
    "Article.objects.create(author=author, title='published article', body='ham', status='publish')"
   ]
  },
  {
   "cell_type": "code",
   "execution_count": 5,
   "metadata": {},
   "outputs": [],
   "source": [
    "### `editor` group に所属しないユーザーでのアクセス"
   ]
  },
  {
   "cell_type": "code",
   "execution_count": 6,
   "metadata": {},
   "outputs": [
    {
     "data": {
      "text/plain": [
       "{'count': 1,\n",
       " 'next': None,\n",
       " 'previous': None,\n",
       " 'results': [{'id': 40,\n",
       "   'category': None,\n",
       "   'title': 'published article',\n",
       "   'body': 'ham',\n",
       "   'status': 'publish',\n",
       "   'author': 1,\n",
       "   'tags': []}]}"
      ]
     },
     "execution_count": 6,
     "metadata": {},
     "output_type": "execute_result"
    }
   ],
   "source": [
    "client.force_authenticate(reader)\n",
    "url = reverse('article-list')\n",
    "client.get(url).json()"
   ]
  },
  {
   "cell_type": "code",
   "execution_count": 7,
   "metadata": {},
   "outputs": [],
   "source": [
    "### editor group に所属するユーザーでのアクセス"
   ]
  },
  {
   "cell_type": "code",
   "execution_count": 8,
   "metadata": {},
   "outputs": [
    {
     "data": {
      "text/plain": [
       "{'count': 2,\n",
       " 'next': None,\n",
       " 'previous': None,\n",
       " 'results': [{'id': 39,\n",
       "   'category': None,\n",
       "   'title': 'unpublish article',\n",
       "   'body': 'spam',\n",
       "   'status': 'unpublish',\n",
       "   'author': 1,\n",
       "   'tags': []},\n",
       "  {'id': 40,\n",
       "   'category': None,\n",
       "   'title': 'published article',\n",
       "   'body': 'ham',\n",
       "   'status': 'publish',\n",
       "   'author': 1,\n",
       "   'tags': []}]}"
      ]
     },
     "execution_count": 8,
     "metadata": {},
     "output_type": "execute_result"
    }
   ],
   "source": [
    "client.force_authenticate(author)\n",
    "client.get(url).json()"
   ]
  },
  {
   "cell_type": "markdown",
   "metadata": {},
   "source": [
    "## 削除機能の制限を確認\n",
    "\n",
    "記事の author のユーザーのみ, 記事を削除できることを確認する."
   ]
  },
  {
   "cell_type": "code",
   "execution_count": 9,
   "metadata": {},
   "outputs": [],
   "source": [
    "# テスト用の記事を登録\n",
    "article = Article(author=author, title='author-test', body='article body')\n",
    "article.save()"
   ]
  },
  {
   "cell_type": "markdown",
   "metadata": {},
   "source": [
    "### author でない他の editor が削除できないことを確認する"
   ]
  },
  {
   "cell_type": "code",
   "execution_count": 10,
   "metadata": {},
   "outputs": [],
   "source": [
    "url = reverse('article-detail', kwargs={'pk': article.id})\n",
    "client.force_authenticate(another)"
   ]
  },
  {
   "cell_type": "code",
   "execution_count": 11,
   "metadata": {},
   "outputs": [
    {
     "name": "stderr",
     "output_type": "stream",
     "text": [
      "Forbidden: /articles/41/\n"
     ]
    },
    {
     "name": "stdout",
     "output_type": "stream",
     "text": [
      "403\n",
      "{'detail': 'このアクションを実行する権限がありません。'}\n"
     ]
    }
   ],
   "source": [
    "res = client.delete(url)\n",
    "print(res.status_code)\n",
    "print(res.json())"
   ]
  },
  {
   "cell_type": "markdown",
   "metadata": {},
   "source": [
    "エラーコード 403 となりアクセスできない."
   ]
  },
  {
   "cell_type": "markdown",
   "metadata": {},
   "source": [
    "### author が削除できることを確認"
   ]
  },
  {
   "cell_type": "code",
   "execution_count": 12,
   "metadata": {},
   "outputs": [],
   "source": [
    "client.force_authenticate(author)"
   ]
  },
  {
   "cell_type": "code",
   "execution_count": 13,
   "metadata": {},
   "outputs": [
    {
     "name": "stdout",
     "output_type": "stream",
     "text": [
      "204\n"
     ]
    }
   ],
   "source": [
    "res = client.delete(url)\n",
    "print(res.status_code)"
   ]
  },
  {
   "cell_type": "markdown",
   "metadata": {},
   "source": [
    "204 が返ってきてるので, 削除できている."
   ]
  },
  {
   "cell_type": "markdown",
   "metadata": {},
   "source": [
    "## まとめ\n",
    "\n",
    "複数の action の制御をわかりやすく, まとめて定義できるので良い感じ ヽ(・ω・｡)ﾉ\n",
    "\n",
    "他にも, グローバルに使用できる関数をつくれたり ([Re-Usable Conditions/Permissions](https://github.com/rsinger86/drf-access-policy#re-usable-conditionspermissions--)),  \n",
    "statements を json に書いておいて読み込むこともできるみたい.([Loading Statements from External Source](https://github.com/rsinger86/drf-access-policy#loading-statements-from-external-source))\n",
    "\n"
   ]
  }
 ],
 "metadata": {
  "kernelspec": {
   "display_name": "Django Shell-Plus",
   "language": "python",
   "name": "django_extensions"
  },
  "language_info": {
   "codemirror_mode": {
    "name": "ipython",
    "version": 3
   },
   "file_extension": ".py",
   "mimetype": "text/x-python",
   "name": "python",
   "nbconvert_exporter": "python",
   "pygments_lexer": "ipython3",
   "version": "3.7.4"
  }
 },
 "nbformat": 4,
 "nbformat_minor": 2
}
